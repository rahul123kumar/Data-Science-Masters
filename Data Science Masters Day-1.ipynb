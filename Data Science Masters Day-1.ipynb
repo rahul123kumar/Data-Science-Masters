{
 "cells": [
  {
   "cell_type": "markdown",
   "id": "cb96d13e-f0dc-4115-8e26-3f1db2a9316a",
   "metadata": {},
   "source": [
    "# Comments\n",
    "## Single-Line Comments"
   ]
  },
  {
   "cell_type": "code",
   "execution_count": 7,
   "id": "c6f09acf-ccb9-4675-8970-767d812429f7",
   "metadata": {},
   "outputs": [],
   "source": [
    "# This is Single-Line comments\n",
    "## We can use this ##\n",
    "## This one also"
   ]
  },
  {
   "cell_type": "markdown",
   "id": "2b611dcc-f489-4009-b0ab-0f969f790ee0",
   "metadata": {},
   "source": [
    "## Multi-Line Comments"
   ]
  },
  {
   "cell_type": "code",
   "execution_count": 2,
   "id": "f5001a5b-4d28-4dcf-ae5f-2de02ba3f58e",
   "metadata": {},
   "outputs": [
    {
     "data": {
      "text/plain": [
       "' This is example of multiline comments '"
      ]
     },
     "execution_count": 2,
     "metadata": {},
     "output_type": "execute_result"
    }
   ],
   "source": [
    "# Comments can be written like this\n",
    "# Comments\n",
    "# Comments\n",
    "\n",
    "\"\"\" This is example of multiline comments \"\"\""
   ]
  },
  {
   "cell_type": "markdown",
   "id": "355bbf36-b540-46cd-95d0-f7e7a1be54f6",
   "metadata": {
    "tags": []
   },
   "source": [
    "### Numbers"
   ]
  },
  {
   "cell_type": "code",
   "execution_count": 8,
   "id": "6b091daf-99d9-44d0-a56c-08ee4393a716",
   "metadata": {},
   "outputs": [
    {
     "data": {
      "text/plain": [
       "10"
      ]
     },
     "execution_count": 8,
     "metadata": {},
     "output_type": "execute_result"
    }
   ],
   "source": [
    "a=10\n",
    "a"
   ]
  },
  {
   "cell_type": "code",
   "execution_count": 9,
   "id": "f66417b0-4810-4ce2-97de-c128c6272ad9",
   "metadata": {},
   "outputs": [
    {
     "data": {
      "text/plain": [
       "4"
      ]
     },
     "execution_count": 9,
     "metadata": {},
     "output_type": "execute_result"
    }
   ],
   "source": [
    "1+3"
   ]
  },
  {
   "cell_type": "code",
   "execution_count": 10,
   "id": "37fe584d-19a5-47f0-87f9-28ad6a2ec629",
   "metadata": {},
   "outputs": [
    {
     "name": "stdout",
     "output_type": "stream",
     "text": [
      "10\n"
     ]
    }
   ],
   "source": [
    "print(1+9)"
   ]
  },
  {
   "cell_type": "code",
   "execution_count": 11,
   "id": "c7d55af4-e65d-4eaf-827a-2523e0c1e0f6",
   "metadata": {},
   "outputs": [
    {
     "data": {
      "text/plain": [
       "5"
      ]
     },
     "execution_count": 11,
     "metadata": {},
     "output_type": "execute_result"
    }
   ],
   "source": [
    "a=5\n",
    "a"
   ]
  },
  {
   "cell_type": "code",
   "execution_count": 1,
   "id": "a1c53dcf-6838-448b-9f56-b6b1201dae9d",
   "metadata": {},
   "outputs": [
    {
     "name": "stdout",
     "output_type": "stream",
     "text": [
      "Hello World!\n"
     ]
    }
   ],
   "source": [
    "print(\"Hello World!\")"
   ]
  },
  {
   "cell_type": "markdown",
   "id": "074482ab-6538-4547-bc0f-9bb67b4a94d5",
   "metadata": {},
   "source": [
    "## Variable Assignment"
   ]
  },
  {
   "cell_type": "code",
   "execution_count": 4,
   "id": "0db83c8f-7672-4c85-82ab-789be4acae50",
   "metadata": {},
   "outputs": [
    {
     "data": {
      "text/plain": [
       "'Rahul'"
      ]
     },
     "execution_count": 4,
     "metadata": {},
     "output_type": "execute_result"
    }
   ],
   "source": [
    "name='Rahul'\n",
    "name"
   ]
  },
  {
   "cell_type": "code",
   "execution_count": 5,
   "id": "e573b7b7-ddb9-4874-8ef0-a6db4692d649",
   "metadata": {},
   "outputs": [
    {
     "data": {
      "text/plain": [
       "str"
      ]
     },
     "execution_count": 5,
     "metadata": {},
     "output_type": "execute_result"
    }
   ],
   "source": [
    "type(name)"
   ]
  },
  {
   "cell_type": "code",
   "execution_count": 6,
   "id": "462db489-bb89-4d76-a637-50306ab4d8bd",
   "metadata": {},
   "outputs": [
    {
     "data": {
      "text/plain": [
       "str"
      ]
     },
     "execution_count": 6,
     "metadata": {},
     "output_type": "execute_result"
    }
   ],
   "source": [
    "type(\"Hey! My name is Rahul\")"
   ]
  },
  {
   "cell_type": "code",
   "execution_count": 7,
   "id": "73fdf82d-91f5-49cb-b3ee-fa28b601873e",
   "metadata": {},
   "outputs": [
    {
     "data": {
      "text/plain": [
       "20"
      ]
     },
     "execution_count": 7,
     "metadata": {},
     "output_type": "execute_result"
    }
   ],
   "source": [
    "number=20\n",
    "number"
   ]
  },
  {
   "cell_type": "code",
   "execution_count": 8,
   "id": "98adfa69-63eb-4f0a-81e9-df3dee8b6fec",
   "metadata": {},
   "outputs": [
    {
     "data": {
      "text/plain": [
       "int"
      ]
     },
     "execution_count": 8,
     "metadata": {},
     "output_type": "execute_result"
    }
   ],
   "source": [
    "type(number)"
   ]
  },
  {
   "cell_type": "code",
   "execution_count": 10,
   "id": "3f22319e-73a5-41ac-a288-6ae9d9a3ea59",
   "metadata": {},
   "outputs": [
    {
     "data": {
      "text/plain": [
       "3.14"
      ]
     },
     "execution_count": 10,
     "metadata": {},
     "output_type": "execute_result"
    }
   ],
   "source": [
    "decimal_number=3.14\n",
    "decimal_number"
   ]
  },
  {
   "cell_type": "code",
   "execution_count": 30,
   "id": "ad31168a-5ad8-4f94-b7c3-2eb07d3cc157",
   "metadata": {},
   "outputs": [
    {
     "ename": "NameError",
     "evalue": "name 'i' is not defined",
     "output_type": "error",
     "traceback": [
      "\u001b[0;31m---------------------------------------------------------------------------\u001b[0m",
      "\u001b[0;31mNameError\u001b[0m                                 Traceback (most recent call last)",
      "Cell \u001b[0;32mIn[30], line 1\u001b[0m\n\u001b[0;32m----> 1\u001b[0m \u001b[38;5;28mtype\u001b[39m(\u001b[43mi\u001b[49m\u001b[38;5;241m+\u001b[39m\u001b[38;5;241m2\u001b[39mj)\n",
      "\u001b[0;31mNameError\u001b[0m: name 'i' is not defined"
     ]
    }
   ],
   "source": [
    "type(i+2j)"
   ]
  },
  {
   "cell_type": "code",
   "execution_count": 29,
   "id": "9b022be8-95e1-4bae-9769-f38ea30d4d74",
   "metadata": {},
   "outputs": [
    {
     "data": {
      "text/plain": [
       "complex"
      ]
     },
     "execution_count": 29,
     "metadata": {},
     "output_type": "execute_result"
    }
   ],
   "source": [
    "type(1+2j)"
   ]
  },
  {
   "cell_type": "code",
   "execution_count": 12,
   "id": "f81df035-d592-488a-a975-8f1633d6bce7",
   "metadata": {},
   "outputs": [
    {
     "data": {
      "text/plain": [
       "float"
      ]
     },
     "execution_count": 12,
     "metadata": {},
     "output_type": "execute_result"
    }
   ],
   "source": [
    "type(decimal_number)"
   ]
  },
  {
   "cell_type": "code",
   "execution_count": 13,
   "id": "355b48d9-b2c4-4dc4-b2cf-baf9a30eeb73",
   "metadata": {},
   "outputs": [
    {
     "name": "stdout",
     "output_type": "stream",
     "text": [
      "Hello World!\n"
     ]
    }
   ],
   "source": [
    "print(\"Hello World!\")"
   ]
  },
  {
   "cell_type": "code",
   "execution_count": 14,
   "id": "337bf9b3-7504-4d1a-98cf-65f227d880df",
   "metadata": {},
   "outputs": [
    {
     "name": "stdout",
     "output_type": "stream",
     "text": [
      "Hello World!\n"
     ]
    }
   ],
   "source": [
    "print('Hello World!')"
   ]
  },
  {
   "cell_type": "markdown",
   "id": "af7eaa87-0b96-43d9-aa3a-5bf901b6700e",
   "metadata": {},
   "source": [
    "#### Variable assignment"
   ]
  },
  {
   "cell_type": "code",
   "execution_count": 15,
   "id": "967968bd-d2a3-4fc8-a01f-b7959e06f3bc",
   "metadata": {},
   "outputs": [
    {
     "ename": "SyntaxError",
     "evalue": "invalid decimal literal (2229342228.py, line 2)",
     "output_type": "error",
     "traceback": [
      "\u001b[0;36m  Cell \u001b[0;32mIn[15], line 2\u001b[0;36m\u001b[0m\n\u001b[0;31m    1a\u001b[0m\n\u001b[0m    ^\u001b[0m\n\u001b[0;31mSyntaxError\u001b[0m\u001b[0;31m:\u001b[0m invalid decimal literal\n"
     ]
    }
   ],
   "source": [
    "## Don't start variable name with number\n",
    "1a\n",
    "3number"
   ]
  },
  {
   "cell_type": "code",
   "execution_count": 17,
   "id": "fca37b7e-a2e3-440b-863f-39ffedbe215f",
   "metadata": {},
   "outputs": [
    {
     "name": "stdout",
     "output_type": "stream",
     "text": [
      "Rahul\n",
      "RAHUL\n"
     ]
    }
   ],
   "source": [
    "## Variable are case sensitive\n",
    "name='Rahul'\n",
    "Name='RAHUL'\n",
    "print(name)\n",
    "print(Name)"
   ]
  },
  {
   "cell_type": "code",
   "execution_count": 18,
   "id": "7fa18f96-1280-4e3e-9811-d88909a0fce9",
   "metadata": {},
   "outputs": [
    {
     "data": {
      "text/plain": [
       "' int, float, len, complex, bool, str, return, yield\\n'"
      ]
     },
     "execution_count": 18,
     "metadata": {},
     "output_type": "execute_result"
    }
   ],
   "source": [
    "## Few reserved keywords\n",
    "\"\"\" int, float, len, complex, bool, str, return, yield\n",
    "\"\"\""
   ]
  },
  {
   "cell_type": "code",
   "execution_count": 22,
   "id": "4d3908f6-2c1e-4acc-9b6e-4e9180f9fb2a",
   "metadata": {},
   "outputs": [
    {
     "data": {
      "text/plain": [
       "30"
      ]
     },
     "execution_count": 22,
     "metadata": {},
     "output_type": "execute_result"
    }
   ],
   "source": [
    "a=30.12\n",
    "int(a)"
   ]
  },
  {
   "cell_type": "code",
   "execution_count": 25,
   "id": "65c96c0b-8682-4e15-be40-d8741d9ccbe6",
   "metadata": {},
   "outputs": [
    {
     "ename": "NameError",
     "evalue": "name 'true' is not defined",
     "output_type": "error",
     "traceback": [
      "\u001b[0;31m---------------------------------------------------------------------------\u001b[0m",
      "\u001b[0;31mNameError\u001b[0m                                 Traceback (most recent call last)",
      "Cell \u001b[0;32mIn[25], line 2\u001b[0m\n\u001b[1;32m      1\u001b[0m \u001b[38;5;66;03m## Boolean\u001b[39;00m\n\u001b[0;32m----> 2\u001b[0m \u001b[43mtrue\u001b[49m\n",
      "\u001b[0;31mNameError\u001b[0m: name 'true' is not defined"
     ]
    }
   ],
   "source": [
    "## Boolean\n",
    "true"
   ]
  },
  {
   "cell_type": "code",
   "execution_count": 26,
   "id": "eb5c75fe-26c7-44b9-81a4-7b4130e8a866",
   "metadata": {},
   "outputs": [
    {
     "data": {
      "text/plain": [
       "True"
      ]
     },
     "execution_count": 26,
     "metadata": {},
     "output_type": "execute_result"
    }
   ],
   "source": [
    "True"
   ]
  },
  {
   "cell_type": "code",
   "execution_count": 31,
   "id": "894ba440-afb4-4ada-9f5f-3daf604a957e",
   "metadata": {},
   "outputs": [
    {
     "data": {
      "text/plain": [
       "False"
      ]
     },
     "execution_count": 31,
     "metadata": {},
     "output_type": "execute_result"
    }
   ],
   "source": [
    "False"
   ]
  },
  {
   "cell_type": "code",
   "execution_count": 32,
   "id": "3dedcb79-917b-44c2-873c-0f9b359ea1e6",
   "metadata": {},
   "outputs": [
    {
     "data": {
      "text/plain": [
       "True"
      ]
     },
     "execution_count": 32,
     "metadata": {},
     "output_type": "execute_result"
    }
   ],
   "source": [
    "True and True"
   ]
  },
  {
   "cell_type": "code",
   "execution_count": 33,
   "id": "f01038ec-8dd8-4260-8d09-275c2f2b4daa",
   "metadata": {},
   "outputs": [
    {
     "data": {
      "text/plain": [
       "False"
      ]
     },
     "execution_count": 33,
     "metadata": {},
     "output_type": "execute_result"
    }
   ],
   "source": [
    "True and False"
   ]
  },
  {
   "cell_type": "code",
   "execution_count": 36,
   "id": "17c38164-c5a1-4d31-8d36-0b529ab4fbf2",
   "metadata": {},
   "outputs": [
    {
     "data": {
      "text/plain": [
       "True"
      ]
     },
     "execution_count": 36,
     "metadata": {},
     "output_type": "execute_result"
    }
   ],
   "source": [
    "True or True"
   ]
  },
  {
   "cell_type": "code",
   "execution_count": 37,
   "id": "44bdb4d7-cbf9-4f6e-9f52-484670faf318",
   "metadata": {},
   "outputs": [
    {
     "data": {
      "text/plain": [
       "True"
      ]
     },
     "execution_count": 37,
     "metadata": {},
     "output_type": "execute_result"
    }
   ],
   "source": [
    "False or True"
   ]
  },
  {
   "cell_type": "code",
   "execution_count": 42,
   "id": "1b55108c-6375-4ce7-9a1c-98f22156f78a",
   "metadata": {},
   "outputs": [
    {
     "ename": "NameError",
     "evalue": "name 'true' is not defined",
     "output_type": "error",
     "traceback": [
      "\u001b[0;31m---------------------------------------------------------------------------\u001b[0m",
      "\u001b[0;31mNameError\u001b[0m                                 Traceback (most recent call last)",
      "Cell \u001b[0;32mIn[42], line 1\u001b[0m\n\u001b[0;32m----> 1\u001b[0m \u001b[38;5;129;01mnot\u001b[39;00m \u001b[43mtrue\u001b[49m\n",
      "\u001b[0;31mNameError\u001b[0m: name 'true' is not defined"
     ]
    }
   ],
   "source": [
    "not true"
   ]
  },
  {
   "cell_type": "code",
   "execution_count": 43,
   "id": "3a5e86a8-4510-456f-941d-25489c856b86",
   "metadata": {},
   "outputs": [
    {
     "data": {
      "text/plain": [
       "False"
      ]
     },
     "execution_count": 43,
     "metadata": {},
     "output_type": "execute_result"
    }
   ],
   "source": [
    "not True"
   ]
  },
  {
   "cell_type": "code",
   "execution_count": 44,
   "id": "5edbc4ea-f211-48b6-86f3-75787d083a31",
   "metadata": {},
   "outputs": [
    {
     "data": {
      "text/plain": [
       "True"
      ]
     },
     "execution_count": 44,
     "metadata": {},
     "output_type": "execute_result"
    }
   ],
   "source": [
    "not False"
   ]
  },
  {
   "cell_type": "code",
   "execution_count": 45,
   "id": "6c17e5f4-707b-4c60-9b80-f12520836277",
   "metadata": {},
   "outputs": [
    {
     "data": {
      "text/plain": [
       "False"
      ]
     },
     "execution_count": 45,
     "metadata": {},
     "output_type": "execute_result"
    }
   ],
   "source": [
    "## Typecasting\n",
    "bool(0)"
   ]
  },
  {
   "cell_type": "code",
   "execution_count": 46,
   "id": "a0bec93a-4d50-429e-bbc3-85c2ffbd9150",
   "metadata": {},
   "outputs": [
    {
     "data": {
      "text/plain": [
       "'23'"
      ]
     },
     "execution_count": 46,
     "metadata": {},
     "output_type": "execute_result"
    }
   ],
   "source": [
    "str('23')"
   ]
  },
  {
   "cell_type": "code",
   "execution_count": 48,
   "id": "5d8b754a-875d-4663-b087-e5ccd4fcb050",
   "metadata": {},
   "outputs": [
    {
     "data": {
      "text/plain": [
       "int"
      ]
     },
     "execution_count": 48,
     "metadata": {},
     "output_type": "execute_result"
    }
   ],
   "source": [
    "type(int('23'))"
   ]
  },
  {
   "cell_type": "code",
   "execution_count": 49,
   "id": "0654641f-756d-41d9-803d-7aaa2f262c92",
   "metadata": {},
   "outputs": [
    {
     "data": {
      "text/plain": [
       "True"
      ]
     },
     "execution_count": 49,
     "metadata": {},
     "output_type": "execute_result"
    }
   ],
   "source": [
    "bool(1)"
   ]
  },
  {
   "cell_type": "markdown",
   "id": "5345f24a-8651-4632-982c-34611e43656c",
   "metadata": {},
   "source": [
    "#### Dynamic Typing"
   ]
  },
  {
   "cell_type": "code",
   "execution_count": 57,
   "id": "90761536-bab7-4b88-8900-2d8f23932fa9",
   "metadata": {},
   "outputs": [],
   "source": [
    "a=23\n",
    "name=\"Rahul\"\n",
    "a=\"name\""
   ]
  },
  {
   "cell_type": "code",
   "execution_count": 58,
   "id": "b37dbc9c-ced0-45d9-bd05-cb8b75c6b744",
   "metadata": {},
   "outputs": [
    {
     "name": "stdout",
     "output_type": "stream",
     "text": [
      "<class 'str'>\n"
     ]
    }
   ],
   "source": [
    "print(type(a))"
   ]
  },
  {
   "cell_type": "code",
   "execution_count": 59,
   "id": "4833bded-951c-4e89-9172-7841ac252272",
   "metadata": {},
   "outputs": [
    {
     "name": "stdout",
     "output_type": "stream",
     "text": [
      "<class 'str'>\n"
     ]
    }
   ],
   "source": [
    "print(type(str))"
   ]
  },
  {
   "cell_type": "code",
   "execution_count": 61,
   "id": "aac1275d-5146-4323-b528-262c4c7fa814",
   "metadata": {},
   "outputs": [
    {
     "ename": "TypeError",
     "evalue": "can only concatenate str (not \"int\") to str",
     "output_type": "error",
     "traceback": [
      "\u001b[0;31m---------------------------------------------------------------------------\u001b[0m",
      "\u001b[0;31mTypeError\u001b[0m                                 Traceback (most recent call last)",
      "Cell \u001b[0;32mIn[61], line 2\u001b[0m\n\u001b[1;32m      1\u001b[0m \u001b[38;5;66;03m## Concatenation between different data types\u001b[39;00m\n\u001b[0;32m----> 2\u001b[0m \u001b[38;5;124;43m'\u001b[39;49m\u001b[38;5;124;43m1\u001b[39;49m\u001b[38;5;124;43m'\u001b[39;49m\u001b[43m \u001b[49m\u001b[38;5;241;43m+\u001b[39;49m\u001b[43m \u001b[49m\u001b[38;5;241;43m1\u001b[39;49m\n",
      "\u001b[0;31mTypeError\u001b[0m: can only concatenate str (not \"int\") to str"
     ]
    }
   ],
   "source": [
    "## Concatenation between different data types\n",
    "'1' + 1"
   ]
  },
  {
   "cell_type": "code",
   "execution_count": 63,
   "id": "9a7dde52-55be-4d73-a6d4-f3f5ec7f06a0",
   "metadata": {},
   "outputs": [
    {
     "data": {
      "text/plain": [
       "'11'"
      ]
     },
     "execution_count": 63,
     "metadata": {},
     "output_type": "execute_result"
    }
   ],
   "source": [
    "'1'+'1'"
   ]
  },
  {
   "cell_type": "code",
   "execution_count": 64,
   "id": "b68751bd-ef3e-4698-92a7-4e3861980af9",
   "metadata": {},
   "outputs": [
    {
     "ename": "TypeError",
     "evalue": "unsupported operand type(s) for +: 'int' and 'str'",
     "output_type": "error",
     "traceback": [
      "\u001b[0;31m---------------------------------------------------------------------------\u001b[0m",
      "\u001b[0;31mTypeError\u001b[0m                                 Traceback (most recent call last)",
      "Cell \u001b[0;32mIn[64], line 1\u001b[0m\n\u001b[0;32m----> 1\u001b[0m \u001b[38;5;28;43mint\u001b[39;49m\u001b[43m(\u001b[49m\u001b[38;5;124;43m'\u001b[39;49m\u001b[38;5;124;43m1\u001b[39;49m\u001b[38;5;124;43m'\u001b[39;49m\u001b[43m)\u001b[49m\u001b[43m \u001b[49m\u001b[38;5;241;43m+\u001b[39;49m\u001b[43m \u001b[49m\u001b[38;5;124;43m'\u001b[39;49m\u001b[38;5;124;43m1\u001b[39;49m\u001b[38;5;124;43m'\u001b[39;49m\n",
      "\u001b[0;31mTypeError\u001b[0m: unsupported operand type(s) for +: 'int' and 'str'"
     ]
    }
   ],
   "source": [
    "int('1') + '1'"
   ]
  },
  {
   "cell_type": "code",
   "execution_count": 74,
   "id": "36e82945-c386-42f8-9219-fc28321defd8",
   "metadata": {},
   "outputs": [
    {
     "data": {
      "text/plain": [
       "'R R R R R R R R R R R R R R R R R R R R R R R R R R R R R R R R R R R R R R R R R R R R R R R R R R R R R R R R R R R R R R R R R R R R R R R R R R R R R R R R R R R R R R R R R R R R R R R R R R R R '"
      ]
     },
     "execution_count": 74,
     "metadata": {},
     "output_type": "execute_result"
    }
   ],
   "source": [
    "'R ''' * 100"
   ]
  }
 ],
 "metadata": {
  "kernelspec": {
   "display_name": "Python 3 (ipykernel)",
   "language": "python",
   "name": "python3"
  },
  "language_info": {
   "codemirror_mode": {
    "name": "ipython",
    "version": 3
   },
   "file_extension": ".py",
   "mimetype": "text/x-python",
   "name": "python",
   "nbconvert_exporter": "python",
   "pygments_lexer": "ipython3",
   "version": "3.10.8"
  }
 },
 "nbformat": 4,
 "nbformat_minor": 5
}
